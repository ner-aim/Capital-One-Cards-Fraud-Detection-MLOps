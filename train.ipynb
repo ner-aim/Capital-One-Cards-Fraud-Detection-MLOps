{
 "cells": [
  {
   "cell_type": "markdown",
   "metadata": {},
   "source": [
    "### [1]"
   ]
  },
  {
   "cell_type": "markdown",
   "metadata": {},
   "source": [
    "### Importing the libraries:"
   ]
  },
  {
   "cell_type": "code",
   "execution_count": 1,
   "metadata": {},
   "outputs": [],
   "source": [
    "import pandas as pd\n",
    "import numpy as np\n",
    "import shutup \n",
    "from sklearn.metrics import plot_roc_curve\n",
    "from sklearn.model_selection import GridSearchCV\n",
    "from sklearn.pipeline import Pipeline\n",
    "from sklearn.preprocessing import StandardScaler\n",
    "from sklearn.compose import ColumnTransformer\n",
    "from imblearn.under_sampling import RandomUnderSampler\n",
    "from sklearn.tree import DecisionTreeClassifier\n",
    "from sklearn.model_selection import train_test_split\n",
    "from sklearn.metrics import confusion_matrix, accuracy_score, classification_report, plot_roc_curve, plot_precision_recall_curve\n",
    "from sklearn.model_selection import train_test_split\n",
    "from sklearn.ensemble import RandomForestClassifier\n",
    "from sklearn.linear_model import LogisticRegression\n",
    "from xgboost import XGBClassifier\n",
    "shutup.please()"
   ]
  },
  {
   "cell_type": "markdown",
   "metadata": {},
   "source": [
    "##### Description:\n",
    "\n",
    "As a standard, I am importing the pandas, numpy, and shutup libraries which are required for my computation purposes. \n",
    "\n",
    "Importing all the classifiers and the metric systems that are used to fit the training set, predict and plot the results using curves\n",
    "##### Techniques used for Hyperparameter searching and fitting the models: \n",
    "    \n",
    "    sklearn Pipeline\n",
    "    sklearn GridSearchCV\n",
    "    sklearn ColumnTransformer\n",
    "    sklearn StandardScaler\n",
    "\n",
    "##### Models :\n",
    "    Decision Tree\n",
    "    Logistic Regression\n",
    "    RandomForest\n",
    "    XGBoost"
   ]
  },
  {
   "cell_type": "markdown",
   "metadata": {},
   "source": [
    "### [2]"
   ]
  },
  {
   "cell_type": "markdown",
   "metadata": {},
   "source": [
    "### Reading the file:"
   ]
  },
  {
   "cell_type": "code",
   "execution_count": 2,
   "metadata": {},
   "outputs": [],
   "source": [
    "new_df = pd.read_pickle(\"./final\")"
   ]
  },
  {
   "cell_type": "markdown",
   "metadata": {},
   "source": [
    "##### Description:\n",
    "\n",
    "As opposed to using a json file everytime and storing the csv file is going to take a lot of space, the data is pickled into a mediocre size as opposed to almost 600MB of the entire JSON file.\n",
    "\n",
    "##### Reading and storing the dataset:\n",
    "\n",
    "Using the inbuilt function of reading pickle, I imported teh Dataset."
   ]
  },
  {
   "cell_type": "markdown",
   "metadata": {},
   "source": [
    "### [3] \n",
    "\n",
    "### Cleaning and preparing the data to train:"
   ]
  },
  {
   "cell_type": "markdown",
   "metadata": {},
   "source": [
    "#### [3.1]\n",
    "\n",
    "Splitting the X and Y parts of the data where Y is the variable to predict i.e. isFraud and X is rest others"
   ]
  },
  {
   "cell_type": "code",
   "execution_count": 3,
   "metadata": {},
   "outputs": [],
   "source": [
    "X = new_df.drop(\"isFraud\", 1)\n",
    "Y = new_df.isFraud"
   ]
  },
  {
   "cell_type": "markdown",
   "metadata": {},
   "source": [
    "#### [3.2]\n",
    "\n",
    "Preserving the accountNumber as it might be useful in future.\n",
    "\n",
    "(Spoiler Alert: It is not useful)"
   ]
  },
  {
   "cell_type": "code",
   "execution_count": 5,
   "metadata": {},
   "outputs": [],
   "source": [
    "accountNumber = X['accountNumber']\n",
    "X.drop('accountNumber', axis = 1, inplace = True)"
   ]
  },
  {
   "cell_type": "code",
   "execution_count": 6,
   "metadata": {},
   "outputs": [
    {
     "data": {
      "text/plain": [
       "dtype('int64')"
      ]
     },
     "execution_count": 6,
     "metadata": {},
     "output_type": "execute_result"
    }
   ],
   "source": [
    "X[\"creditLimit\"].dtype"
   ]
  },
  {
   "cell_type": "markdown",
   "metadata": {},
   "source": [
    "#### [3.3]\n",
    "\n",
    "#### Record classification\n",
    "\n",
    "**Method:** \n",
    "    \n",
    "Classifying the variables into boolean, categorical and numeric.\n",
    "\n",
    "Numeric: The records which are neither boolean or object type\n",
    "\n",
    "Boolean: The record which are boolean type\n",
    "\n",
    "Categorical: The records which are object type"
   ]
  },
  {
   "cell_type": "code",
   "execution_count": 7,
   "metadata": {},
   "outputs": [],
   "source": [
    "numeric = []\n",
    "for column in X.columns.to_list():\n",
    "    if(X[column].dtype != object and X[column].dtype!=bool):\n",
    "        numeric.append(column)"
   ]
  },
  {
   "cell_type": "code",
   "execution_count": 8,
   "metadata": {},
   "outputs": [
    {
     "data": {
      "text/plain": [
       "['creditLimit',\n",
       " 'availableMoney',\n",
       " 'transactionAmount',\n",
       " 'currentBalance',\n",
       " 'multiswipeMinutes']"
      ]
     },
     "execution_count": 8,
     "metadata": {},
     "output_type": "execute_result"
    }
   ],
   "source": [
    "numeric"
   ]
  },
  {
   "cell_type": "code",
   "execution_count": 9,
   "metadata": {},
   "outputs": [],
   "source": [
    "boolean_col = []\n",
    "for column in X.columns.to_list():\n",
    "    if(X[column].dtype == bool):\n",
    "        boolean_col.append(column)"
   ]
  },
  {
   "cell_type": "code",
   "execution_count": 10,
   "metadata": {},
   "outputs": [
    {
     "data": {
      "text/plain": [
       "['cardPresent',\n",
       " 'expirationDateKeyInMatch',\n",
       " 'CVV Match',\n",
       " 'FirstVendorPurchase',\n",
       " 'sameCountry']"
      ]
     },
     "execution_count": 10,
     "metadata": {},
     "output_type": "execute_result"
    }
   ],
   "source": [
    "boolean_col"
   ]
  },
  {
   "cell_type": "markdown",
   "metadata": {},
   "source": [
    "#### [3.4] \n",
    "\n",
    "#### Conversion\n",
    "\n",
    "Converting the boolean to 0,1 as opposed to False, True. \n",
    "\n",
    "Since Y is also in boolean format, we are converting it into 0,1 as well"
   ]
  },
  {
   "cell_type": "code",
   "execution_count": 11,
   "metadata": {},
   "outputs": [],
   "source": [
    "for column in boolean_col:\n",
    "    X[column] = X[column].replace({False:0, True:1})"
   ]
  },
  {
   "cell_type": "code",
   "execution_count": 12,
   "metadata": {},
   "outputs": [],
   "source": [
    "Y = Y.replace({False:0, True:1})"
   ]
  },
  {
   "cell_type": "code",
   "execution_count": 13,
   "metadata": {},
   "outputs": [
    {
     "data": {
      "text/plain": [
       "0    773946\n",
       "1     12417\n",
       "Name: isFraud, dtype: int64"
      ]
     },
     "execution_count": 13,
     "metadata": {},
     "output_type": "execute_result"
    }
   ],
   "source": [
    "Y.value_counts()"
   ]
  },
  {
   "cell_type": "code",
   "execution_count": 14,
   "metadata": {},
   "outputs": [],
   "source": [
    "object_col = []\n",
    "for column in X.columns.to_list():\n",
    "    if(X[column].dtype == object):\n",
    "        object_col.append(column)"
   ]
  },
  {
   "cell_type": "markdown",
   "metadata": {},
   "source": [
    "#### [3.5]\n",
    "\n",
    "#### One-Hot Encoding"
   ]
  },
  {
   "cell_type": "markdown",
   "metadata": {},
   "source": [
    "##### Description:\n",
    "\n",
    "Using the pandas get_dummies method to use the one-hot encoding method. \n",
    "\n",
    "##### Suggestion: \n",
    "This step can be avoided using the Scikit-learn Pipeline and the ColumnTransformer which can create one-hot encoding at the run-time as opposed to storing in the dataset\n",
    "\n",
    "##### Input Variables:\n",
    "\n",
    "The categorical columns along with the dataset.\n",
    "\n",
    "##### Output variables:\n",
    "\n",
    "The dataset with the dummy variables:\n"
   ]
  },
  {
   "cell_type": "code",
   "execution_count": 15,
   "metadata": {},
   "outputs": [],
   "source": [
    "X_dummies = pd.get_dummies(X, columns = [\"posEntryMode\", \"posConditionCode\", \"merchantCategoryCode\", \"transactionType\"])"
   ]
  },
  {
   "cell_type": "code",
   "execution_count": 16,
   "metadata": {},
   "outputs": [
    {
     "data": {
      "text/html": [
       "<div>\n",
       "<style scoped>\n",
       "    .dataframe tbody tr th:only-of-type {\n",
       "        vertical-align: middle;\n",
       "    }\n",
       "\n",
       "    .dataframe tbody tr th {\n",
       "        vertical-align: top;\n",
       "    }\n",
       "\n",
       "    .dataframe thead th {\n",
       "        text-align: right;\n",
       "    }\n",
       "</style>\n",
       "<table border=\"1\" class=\"dataframe\">\n",
       "  <thead>\n",
       "    <tr style=\"text-align: right;\">\n",
       "      <th></th>\n",
       "      <th>creditLimit</th>\n",
       "      <th>availableMoney</th>\n",
       "      <th>transactionAmount</th>\n",
       "      <th>currentBalance</th>\n",
       "      <th>cardPresent</th>\n",
       "      <th>expirationDateKeyInMatch</th>\n",
       "      <th>CVV Match</th>\n",
       "      <th>multiswipeMinutes</th>\n",
       "      <th>FirstVendorPurchase</th>\n",
       "      <th>sameCountry</th>\n",
       "      <th>...</th>\n",
       "      <th>merchantCategoryCode_online_retail</th>\n",
       "      <th>merchantCategoryCode_online_subscriptions</th>\n",
       "      <th>merchantCategoryCode_personal care</th>\n",
       "      <th>merchantCategoryCode_rideshare</th>\n",
       "      <th>merchantCategoryCode_subscriptions</th>\n",
       "      <th>transactionType_ADDRESS_VERIFICATION</th>\n",
       "      <th>transactionType_MULTISWIPE</th>\n",
       "      <th>transactionType_PURCHASE</th>\n",
       "      <th>transactionType_REVERSAL</th>\n",
       "      <th>transactionType_UNKNOWN</th>\n",
       "    </tr>\n",
       "  </thead>\n",
       "  <tbody>\n",
       "    <tr>\n",
       "      <th>0</th>\n",
       "      <td>5000</td>\n",
       "      <td>5000.0</td>\n",
       "      <td>98.55</td>\n",
       "      <td>0.0</td>\n",
       "      <td>0</td>\n",
       "      <td>0</td>\n",
       "      <td>1</td>\n",
       "      <td>0.000000</td>\n",
       "      <td>1</td>\n",
       "      <td>1</td>\n",
       "      <td>...</td>\n",
       "      <td>0</td>\n",
       "      <td>0</td>\n",
       "      <td>0</td>\n",
       "      <td>1</td>\n",
       "      <td>0</td>\n",
       "      <td>0</td>\n",
       "      <td>0</td>\n",
       "      <td>1</td>\n",
       "      <td>0</td>\n",
       "      <td>0</td>\n",
       "    </tr>\n",
       "    <tr>\n",
       "      <th>1</th>\n",
       "      <td>5000</td>\n",
       "      <td>5000.0</td>\n",
       "      <td>74.51</td>\n",
       "      <td>0.0</td>\n",
       "      <td>1</td>\n",
       "      <td>0</td>\n",
       "      <td>1</td>\n",
       "      <td>84398.366667</td>\n",
       "      <td>1</td>\n",
       "      <td>1</td>\n",
       "      <td>...</td>\n",
       "      <td>0</td>\n",
       "      <td>0</td>\n",
       "      <td>0</td>\n",
       "      <td>0</td>\n",
       "      <td>0</td>\n",
       "      <td>0</td>\n",
       "      <td>0</td>\n",
       "      <td>1</td>\n",
       "      <td>0</td>\n",
       "      <td>0</td>\n",
       "    </tr>\n",
       "    <tr>\n",
       "      <th>2</th>\n",
       "      <td>5000</td>\n",
       "      <td>5000.0</td>\n",
       "      <td>7.47</td>\n",
       "      <td>0.0</td>\n",
       "      <td>0</td>\n",
       "      <td>0</td>\n",
       "      <td>1</td>\n",
       "      <td>40572.750000</td>\n",
       "      <td>1</td>\n",
       "      <td>1</td>\n",
       "      <td>...</td>\n",
       "      <td>0</td>\n",
       "      <td>0</td>\n",
       "      <td>0</td>\n",
       "      <td>0</td>\n",
       "      <td>0</td>\n",
       "      <td>0</td>\n",
       "      <td>0</td>\n",
       "      <td>1</td>\n",
       "      <td>0</td>\n",
       "      <td>0</td>\n",
       "    </tr>\n",
       "    <tr>\n",
       "      <th>3</th>\n",
       "      <td>5000</td>\n",
       "      <td>5000.0</td>\n",
       "      <td>7.47</td>\n",
       "      <td>0.0</td>\n",
       "      <td>0</td>\n",
       "      <td>0</td>\n",
       "      <td>1</td>\n",
       "      <td>45656.183333</td>\n",
       "      <td>0</td>\n",
       "      <td>1</td>\n",
       "      <td>...</td>\n",
       "      <td>0</td>\n",
       "      <td>0</td>\n",
       "      <td>0</td>\n",
       "      <td>0</td>\n",
       "      <td>0</td>\n",
       "      <td>0</td>\n",
       "      <td>0</td>\n",
       "      <td>1</td>\n",
       "      <td>0</td>\n",
       "      <td>0</td>\n",
       "    </tr>\n",
       "    <tr>\n",
       "      <th>4</th>\n",
       "      <td>5000</td>\n",
       "      <td>5000.0</td>\n",
       "      <td>71.18</td>\n",
       "      <td>0.0</td>\n",
       "      <td>1</td>\n",
       "      <td>0</td>\n",
       "      <td>1</td>\n",
       "      <td>0.000000</td>\n",
       "      <td>1</td>\n",
       "      <td>1</td>\n",
       "      <td>...</td>\n",
       "      <td>0</td>\n",
       "      <td>0</td>\n",
       "      <td>0</td>\n",
       "      <td>0</td>\n",
       "      <td>0</td>\n",
       "      <td>0</td>\n",
       "      <td>0</td>\n",
       "      <td>1</td>\n",
       "      <td>0</td>\n",
       "      <td>0</td>\n",
       "    </tr>\n",
       "  </tbody>\n",
       "</table>\n",
       "<p>5 rows × 44 columns</p>\n",
       "</div>"
      ],
      "text/plain": [
       "   creditLimit  availableMoney  transactionAmount  currentBalance  \\\n",
       "0         5000          5000.0              98.55             0.0   \n",
       "1         5000          5000.0              74.51             0.0   \n",
       "2         5000          5000.0               7.47             0.0   \n",
       "3         5000          5000.0               7.47             0.0   \n",
       "4         5000          5000.0              71.18             0.0   \n",
       "\n",
       "   cardPresent  expirationDateKeyInMatch  CVV Match  multiswipeMinutes  \\\n",
       "0            0                         0          1           0.000000   \n",
       "1            1                         0          1       84398.366667   \n",
       "2            0                         0          1       40572.750000   \n",
       "3            0                         0          1       45656.183333   \n",
       "4            1                         0          1           0.000000   \n",
       "\n",
       "   FirstVendorPurchase  sameCountry  ...  merchantCategoryCode_online_retail  \\\n",
       "0                    1            1  ...                                   0   \n",
       "1                    1            1  ...                                   0   \n",
       "2                    1            1  ...                                   0   \n",
       "3                    0            1  ...                                   0   \n",
       "4                    1            1  ...                                   0   \n",
       "\n",
       "   merchantCategoryCode_online_subscriptions  \\\n",
       "0                                          0   \n",
       "1                                          0   \n",
       "2                                          0   \n",
       "3                                          0   \n",
       "4                                          0   \n",
       "\n",
       "   merchantCategoryCode_personal care  merchantCategoryCode_rideshare  \\\n",
       "0                                   0                               1   \n",
       "1                                   0                               0   \n",
       "2                                   0                               0   \n",
       "3                                   0                               0   \n",
       "4                                   0                               0   \n",
       "\n",
       "   merchantCategoryCode_subscriptions  transactionType_ADDRESS_VERIFICATION  \\\n",
       "0                                   0                                     0   \n",
       "1                                   0                                     0   \n",
       "2                                   0                                     0   \n",
       "3                                   0                                     0   \n",
       "4                                   0                                     0   \n",
       "\n",
       "   transactionType_MULTISWIPE  transactionType_PURCHASE  \\\n",
       "0                           0                         1   \n",
       "1                           0                         1   \n",
       "2                           0                         1   \n",
       "3                           0                         1   \n",
       "4                           0                         1   \n",
       "\n",
       "   transactionType_REVERSAL  transactionType_UNKNOWN  \n",
       "0                         0                        0  \n",
       "1                         0                        0  \n",
       "2                         0                        0  \n",
       "3                         0                        0  \n",
       "4                         0                        0  \n",
       "\n",
       "[5 rows x 44 columns]"
      ]
     },
     "execution_count": 16,
     "metadata": {},
     "output_type": "execute_result"
    }
   ],
   "source": [
    "X_dummies.head()"
   ]
  },
  {
   "cell_type": "markdown",
   "metadata": {},
   "source": [
    "#### [3.6]\n",
    "\n",
    "#### Column Transformer:\n",
    "\n",
    "Using StandardScaler to passthrough only the numeric columns for the standard scaling."
   ]
  },
  {
   "cell_type": "code",
   "execution_count": 17,
   "metadata": {},
   "outputs": [],
   "source": [
    "ct = ColumnTransformer([\n",
    "        ('St_Scaler', StandardScaler(), numeric)\n",
    "    ], remainder='passthrough')"
   ]
  },
  {
   "cell_type": "markdown",
   "metadata": {},
   "source": [
    " \n",
    " "
   ]
  },
  {
   "cell_type": "markdown",
   "metadata": {},
   "source": [
    "### [4]\n",
    "\n",
    "### Modelling"
   ]
  },
  {
   "cell_type": "markdown",
   "metadata": {},
   "source": [
    " "
   ]
  },
  {
   "cell_type": "markdown",
   "metadata": {},
   "source": [
    "##### This part discusses the models that are used throughout the training and testing process. The justification for the models is given after this section."
   ]
  },
  {
   "cell_type": "markdown",
   "metadata": {},
   "source": [
    "#### [4.1]\n",
    "#### DECISION TREE"
   ]
  },
  {
   "cell_type": "markdown",
   "metadata": {},
   "source": [
    "#### Decision Tree Inputs\n",
    "\n",
    "##### Description:\n",
    "\n",
    "Creating a sklearn pipeline using the ColumnTransformer and the DecisionTreeClassifier and pass through all the variable\n",
    "\n",
    "##### Parameters for Classifier: \n",
    "\n",
    "Criterion on which the Tree is trained:\n",
    "    \n",
    "    Gini\n",
    "    Entropy\n",
    "\n",
    "Max Depth of the tree:\n",
    "    \n",
    "    3,4,5,6,7,8,9,10,11,12,13,14,15,16,17,18,19,20\n",
    "    \n",
    "##### Inputs:\n",
    "\n",
    "For the training of the data:\n",
    "    X_resample and Y_resample:\n",
    "        \n",
    "##### Resampling of Data:\n",
    "\n",
    "Why are we resampling the data?\n",
    "    \n",
    "    Before resampling the data, I tried creating a classifer which resulted in 96% accuracy although, bad class 1 accuracy. Hence we undersampled the data so that the classifier can properly identify the features and train it easily\n",
    "        "
   ]
  },
  {
   "cell_type": "code",
   "execution_count": 18,
   "metadata": {},
   "outputs": [],
   "source": [
    "decisionTree_pipe = Pipeline(\n",
    "    steps = [(\"Transformer\", ct), (\"Classifier\", DecisionTreeClassifier())])"
   ]
  },
  {
   "cell_type": "code",
   "execution_count": 19,
   "metadata": {},
   "outputs": [],
   "source": [
    "sampler = RandomUnderSampler()\n",
    "X_sample, Y_sample = sampler.fit_resample(X_dummies, Y)"
   ]
  },
  {
   "cell_type": "code",
   "execution_count": 20,
   "metadata": {},
   "outputs": [],
   "source": [
    "params = {'Classifier__criterion':['gini', 'entropy'],'Classifier__max_depth':np.arange(3, 20)}"
   ]
  },
  {
   "cell_type": "code",
   "execution_count": 21,
   "metadata": {},
   "outputs": [],
   "source": [
    "grid_dt = GridSearchCV(decisionTree_pipe,\n",
    "                      param_grid=params,\n",
    "                      scoring = 'accuracy', \n",
    "                      cv = 5)"
   ]
  },
  {
   "cell_type": "code",
   "execution_count": 22,
   "metadata": {},
   "outputs": [],
   "source": [
    "X_tr, X_ts, Y_tr, Y_ts = train_test_split(X_sample, Y_sample, test_size = 0.4, random_state = 42, stratify=Y_sample)"
   ]
  },
  {
   "cell_type": "code",
   "execution_count": 23,
   "metadata": {},
   "outputs": [
    {
     "data": {
      "text/plain": [
       "GridSearchCV(cv=5,\n",
       "             estimator=Pipeline(steps=[('Transformer',\n",
       "                                        ColumnTransformer(remainder='passthrough',\n",
       "                                                          transformers=[('St_Scaler',\n",
       "                                                                         StandardScaler(),\n",
       "                                                                         ['creditLimit',\n",
       "                                                                          'availableMoney',\n",
       "                                                                          'transactionAmount',\n",
       "                                                                          'currentBalance',\n",
       "                                                                          'multiswipeMinutes'])])),\n",
       "                                       ('Classifier',\n",
       "                                        DecisionTreeClassifier())]),\n",
       "             param_grid={'Classifier__criterion': ['gini', 'entropy'],\n",
       "                         'Classifier__max_depth': array([ 3,  4,  5,  6,  7,  8,  9, 10, 11, 12, 13, 14, 15, 16, 17, 18, 19])},\n",
       "             scoring='accuracy')"
      ]
     },
     "execution_count": 23,
     "metadata": {},
     "output_type": "execute_result"
    }
   ],
   "source": [
    "grid_dt.fit(X_tr, Y_tr)"
   ]
  },
  {
   "cell_type": "code",
   "execution_count": 24,
   "metadata": {},
   "outputs": [],
   "source": [
    "pred = grid_dt.predict(X_ts)"
   ]
  },
  {
   "cell_type": "markdown",
   "metadata": {},
   "source": [
    "#### Decison Tree Outputs:\n",
    "\n",
    "##### Metrics:\n",
    "\n",
    "Precision of class 0, 1, and combined using the classification report\n",
    "\n",
    "Recall of class 0, 1, and combined using the classification report\n",
    "\n",
    "F-1 Score of class 0, 1, and combined using the classification report\n",
    "\n",
    "Accuracy of the model using the classification report\n",
    "\n",
    "##### Graphs:\n",
    "\n",
    "Here we have a ROC-Curve that shows how well the model is being fitted to the data.\n"
   ]
  },
  {
   "cell_type": "code",
   "execution_count": 25,
   "metadata": {},
   "outputs": [
    {
     "name": "stdout",
     "output_type": "stream",
     "text": [
      "0.6769679887255888\n",
      "[[3490 1732]\n",
      " [1477 3235]]\n",
      "              precision    recall  f1-score   support\n",
      "\n",
      "           0       0.70      0.67      0.69      5222\n",
      "           1       0.65      0.69      0.67      4712\n",
      "\n",
      "    accuracy                           0.68      9934\n",
      "   macro avg       0.68      0.68      0.68      9934\n",
      "weighted avg       0.68      0.68      0.68      9934\n",
      "\n"
     ]
    }
   ],
   "source": [
    "print(accuracy_score(pred, Y_ts))\n",
    "print(confusion_matrix(pred, Y_ts))\n",
    "print(classification_report(pred, Y_ts))"
   ]
  },
  {
   "cell_type": "code",
   "execution_count": 26,
   "metadata": {},
   "outputs": [
    {
     "data": {
      "text/plain": [
       "<sklearn.metrics._plot.roc_curve.RocCurveDisplay at 0x7f76f45a55e0>"
      ]
     },
     "execution_count": 26,
     "metadata": {},
     "output_type": "execute_result"
    },
    {
     "data": {
      "image/png": "[encoded data removed]",
      "text/plain": [
       "<Figure size 432x288 with 1 Axes>"
      ]
     },
     "metadata": {
      "needs_background": "light"
     },
     "output_type": "display_data"
    }
   ],
   "source": [
    "plot_roc_curve(grid_dt, X_ts, Y_ts)"
   ]
  },
  {
   "cell_type": "markdown",
   "metadata": {},
   "source": [
    "#### [4.2]\n",
    "#### LOGISTIC REGRESSION "
   ]
  },
  {
   "cell_type": "markdown",
   "metadata": {},
   "source": [
    "#### Logistic Regression Inputs\n",
    "\n",
    "##### Description:\n",
    "\n",
    "Creating a sklearn pipeline using the ColumnTransformer and the Logistic Regression and pass through all the variable\n",
    "\n",
    "##### Parameters for Classifier: \n",
    "\n",
    "Penalty on which the model is trained:\n",
    "    \n",
    "    L1: Ridge\n",
    "    L2: Lasso\n",
    "\n",
    "Complexity Penalty of the regressor:\n",
    "    \n",
    "    0.001,0.01,0.1,1,10,100,1000\n",
    "    \n",
    "##### Inputs:\n",
    "\n",
    "For the training of the data:\n",
    "    X_resample and Y_resample:\n",
    "        \n",
    "##### Resampling of Data:\n",
    "\n",
    "Why are we resampling the data?\n",
    "    \n",
    "    Before resampling the data, I tried creating a classifer which resulted in 96% accuracy although, bad class 1 accuracy. Hence we undersampled the data so that the classifier can properly identify the features and train it easily\n",
    "        "
   ]
  },
  {
   "cell_type": "code",
   "execution_count": 27,
   "metadata": {},
   "outputs": [],
   "source": [
    "logit_pipe = Pipeline(\n",
    "    steps = [(\"Transformer\", ct), (\"Classifier\", LogisticRegression())])"
   ]
  },
  {
   "cell_type": "code",
   "execution_count": 28,
   "metadata": {},
   "outputs": [],
   "source": [
    "sampler = RandomUnderSampler()\n",
    "X_sample, Y_sample = sampler.fit_resample(X_dummies, Y)"
   ]
  },
  {
   "cell_type": "code",
   "execution_count": 29,
   "metadata": {},
   "outputs": [],
   "source": [
    "params = {'Classifier__penalty': ['l1','l2'], 'Classifier__C': [0.001,0.01,0.1,1,10,100,1000]}"
   ]
  },
  {
   "cell_type": "code",
   "execution_count": 30,
   "metadata": {},
   "outputs": [],
   "source": [
    "grid_lr = GridSearchCV(logit_pipe,\n",
    "                      param_grid=params,\n",
    "                      scoring = 'accuracy', \n",
    "                      cv = 5)"
   ]
  },
  {
   "cell_type": "code",
   "execution_count": 31,
   "metadata": {},
   "outputs": [],
   "source": [
    "X_tr, X_ts, Y_tr, Y_ts = train_test_split(X_sample, Y_sample, test_size = 0.4, random_state = 42, stratify=Y_sample)"
   ]
  },
  {
   "cell_type": "code",
   "execution_count": 32,
   "metadata": {},
   "outputs": [
    {
     "data": {
      "text/plain": [
       "GridSearchCV(cv=5,\n",
       "             estimator=Pipeline(steps=[('Transformer',\n",
       "                                        ColumnTransformer(remainder='passthrough',\n",
       "                                                          transformers=[('St_Scaler',\n",
       "                                                                         StandardScaler(),\n",
       "                                                                         ['creditLimit',\n",
       "                                                                          'availableMoney',\n",
       "                                                                          'transactionAmount',\n",
       "                                                                          'currentBalance',\n",
       "                                                                          'multiswipeMinutes'])])),\n",
       "                                       ('Classifier', LogisticRegression())]),\n",
       "             param_grid={'Classifier__C': [0.001, 0.01, 0.1, 1, 10, 100, 1000],\n",
       "                         'Classifier__penalty': ['l1', 'l2']},\n",
       "             scoring='accuracy')"
      ]
     },
     "execution_count": 32,
     "metadata": {},
     "output_type": "execute_result"
    }
   ],
   "source": [
    "grid_lr.fit(X_tr, Y_tr)"
   ]
  },
  {
   "cell_type": "code",
   "execution_count": 33,
   "metadata": {},
   "outputs": [],
   "source": [
    "pred = grid_lr.predict(X_ts)"
   ]
  },
  {
   "cell_type": "markdown",
   "metadata": {},
   "source": [
    "#### Logistic Regression Outputs:\n",
    "\n",
    "##### Metrics:\n",
    "\n",
    "Precision of class 0, 1, and combined using the classification report\n",
    "\n",
    "Recall of class 0, 1, and combined using the classification report\n",
    "\n",
    "F-1 Score of class 0, 1, and combined using the classification report\n",
    "\n",
    "Accuracy of the model using the classification report\n",
    "\n",
    "##### Graphs:\n",
    "\n",
    "Here we have a ROC-Curve that shows how well the model is being fitted to the data.\n"
   ]
  },
  {
   "cell_type": "code",
   "execution_count": 34,
   "metadata": {},
   "outputs": [
    {
     "name": "stdout",
     "output_type": "stream",
     "text": [
      "0.6806925709683914\n",
      "[[3266 1471]\n",
      " [1701 3496]]\n",
      "              precision    recall  f1-score   support\n",
      "\n",
      "           0       0.66      0.69      0.67      4737\n",
      "           1       0.70      0.67      0.69      5197\n",
      "\n",
      "    accuracy                           0.68      9934\n",
      "   macro avg       0.68      0.68      0.68      9934\n",
      "weighted avg       0.68      0.68      0.68      9934\n",
      "\n"
     ]
    }
   ],
   "source": [
    "print(accuracy_score(pred, Y_ts))\n",
    "print(confusion_matrix(pred, Y_ts))\n",
    "print(classification_report(pred, Y_ts))"
   ]
  },
  {
   "cell_type": "code",
   "execution_count": 35,
   "metadata": {},
   "outputs": [
    {
     "data": {
      "text/plain": [
       "<sklearn.metrics._plot.roc_curve.RocCurveDisplay at 0x7f7701ffb8b0>"
      ]
     },
     "execution_count": 35,
     "metadata": {},
     "output_type": "execute_result"
    },
    {
     "data": {
      "image/png": "[encoded data removed]",
      "text/plain": [
       "<Figure size 432x288 with 1 Axes>"
      ]
     },
     "metadata": {
      "needs_background": "light"
     },
     "output_type": "display_data"
    }
   ],
   "source": [
    "plot_roc_curve(grid_lr, X_ts, Y_ts)"
   ]
  },
  {
   "cell_type": "markdown",
   "metadata": {},
   "source": [
    "#### [4.3]\n",
    "#### RANDOM FOREST"
   ]
  },
  {
   "cell_type": "markdown",
   "metadata": {},
   "source": [
    "#### Random Forest Inputs\n",
    "\n",
    "##### Description:\n",
    "\n",
    "Creating a sklearn pipeline using the ColumnTransformer and the RandomForestClassifier and pass through all the variable\n",
    "\n",
    "##### Parameters for Classifier: \n",
    "\n",
    "Criterion on which randomForest is trained:\n",
    "    \n",
    "    Gini\n",
    "    Entropy\n",
    "\n",
    "Max Depth of the tree:\n",
    "    \n",
    "    3,4,5,6,7,8,9,10,11,12,13,14,15,16,17,18,19,20\n",
    "    \n",
    "##### Inputs:\n",
    "\n",
    "For the training of the data:\n",
    "    X_resample and Y_resample:\n",
    "        \n",
    "##### Resampling of Data:\n",
    "\n",
    "Why are we resampling the data?\n",
    "    \n",
    "    Before resampling the data, I tried creating a classifer which resulted in 96% accuracy although, bad class 1 accuracy. Hence we undersampled the data so that the classifier can properly identify the features and train it easily\n",
    "        "
   ]
  },
  {
   "cell_type": "code",
   "execution_count": 36,
   "metadata": {},
   "outputs": [],
   "source": [
    "RandomForest_pipe = Pipeline(\n",
    "    steps = [(\"Transformer\", ct), (\"Classifier\", RandomForestClassifier())])"
   ]
  },
  {
   "cell_type": "code",
   "execution_count": 37,
   "metadata": {},
   "outputs": [],
   "source": [
    "sampler = RandomUnderSampler()\n",
    "X_sample, Y_sample = sampler.fit_resample(X_dummies, Y)"
   ]
  },
  {
   "cell_type": "code",
   "execution_count": 38,
   "metadata": {},
   "outputs": [],
   "source": [
    "params = {'Classifier__criterion':['gini', 'entropy'],\n",
    "          'Classifier__max_depth':np.arange(3, 20) \n",
    "         }"
   ]
  },
  {
   "cell_type": "code",
   "execution_count": 39,
   "metadata": {},
   "outputs": [],
   "source": [
    "grid_rf = GridSearchCV(RandomForest_pipe,\n",
    "                      param_grid=params,\n",
    "                      scoring = 'accuracy', \n",
    "                      cv = 5)"
   ]
  },
  {
   "cell_type": "code",
   "execution_count": 40,
   "metadata": {},
   "outputs": [],
   "source": [
    "X_tr, X_ts, Y_tr, Y_ts = train_test_split(X_sample, Y_sample, test_size = 0.4, random_state = 42, stratify=Y_sample)"
   ]
  },
  {
   "cell_type": "code",
   "execution_count": 41,
   "metadata": {},
   "outputs": [
    {
     "data": {
      "text/plain": [
       "GridSearchCV(cv=5,\n",
       "             estimator=Pipeline(steps=[('Transformer',\n",
       "                                        ColumnTransformer(remainder='passthrough',\n",
       "                                                          transformers=[('St_Scaler',\n",
       "                                                                         StandardScaler(),\n",
       "                                                                         ['creditLimit',\n",
       "                                                                          'availableMoney',\n",
       "                                                                          'transactionAmount',\n",
       "                                                                          'currentBalance',\n",
       "                                                                          'multiswipeMinutes'])])),\n",
       "                                       ('Classifier',\n",
       "                                        RandomForestClassifier())]),\n",
       "             param_grid={'Classifier__criterion': ['gini', 'entropy'],\n",
       "                         'Classifier__max_depth': array([ 3,  4,  5,  6,  7,  8,  9, 10, 11, 12, 13, 14, 15, 16, 17, 18, 19])},\n",
       "             scoring='accuracy')"
      ]
     },
     "execution_count": 41,
     "metadata": {},
     "output_type": "execute_result"
    }
   ],
   "source": [
    "grid_rf.fit(X_tr, Y_tr)"
   ]
  },
  {
   "cell_type": "code",
   "execution_count": 42,
   "metadata": {},
   "outputs": [],
   "source": [
    "pred = grid_rf.predict(X_ts)"
   ]
  },
  {
   "cell_type": "markdown",
   "metadata": {},
   "source": [
    "#### Random Forest Outputs:\n",
    "\n",
    "##### Metrics:\n",
    "\n",
    "Precision of class 0, 1, and combined using the classification report\n",
    "\n",
    "Recall of class 0, 1, and combined using the classification report\n",
    "\n",
    "F-1 Score of class 0, 1, and combined using the classification report\n",
    "\n",
    "Accuracy of the model using the classification report\n",
    "\n",
    "##### Graphs:\n",
    "\n",
    "Here we have a ROC-Curve that shows how well the model is being fitted to the data.\n"
   ]
  },
  {
   "cell_type": "code",
   "execution_count": 43,
   "metadata": {},
   "outputs": [
    {
     "name": "stdout",
     "output_type": "stream",
     "text": [
      "0.7070666398228307\n",
      "[[3583 1526]\n",
      " [1384 3441]]\n",
      "              precision    recall  f1-score   support\n",
      "\n",
      "           0       0.72      0.70      0.71      5109\n",
      "           1       0.69      0.71      0.70      4825\n",
      "\n",
      "    accuracy                           0.71      9934\n",
      "   macro avg       0.71      0.71      0.71      9934\n",
      "weighted avg       0.71      0.71      0.71      9934\n",
      "\n"
     ]
    }
   ],
   "source": [
    "print(accuracy_score(pred, Y_ts))\n",
    "print(confusion_matrix(pred, Y_ts))\n",
    "print(classification_report(pred, Y_ts))"
   ]
  },
  {
   "cell_type": "code",
   "execution_count": 44,
   "metadata": {},
   "outputs": [
    {
     "data": {
      "text/plain": [
       "<sklearn.metrics._plot.roc_curve.RocCurveDisplay at 0x7f76f0d264f0>"
      ]
     },
     "execution_count": 44,
     "metadata": {},
     "output_type": "execute_result"
    },
    {
     "data": {
      "image/png": "[encoded data removed]",
      "text/plain": [
       "<Figure size 432x288 with 1 Axes>"
      ]
     },
     "metadata": {
      "needs_background": "light"
     },
     "output_type": "display_data"
    }
   ],
   "source": [
    "plot_roc_curve(grid_rf, X_ts, Y_ts)"
   ]
  },
  {
   "cell_type": "markdown",
   "metadata": {},
   "source": [
    "#### [4.4]\n",
    "#### XGBOOST"
   ]
  },
  {
   "cell_type": "markdown",
   "metadata": {},
   "source": [
    "#### XGBoost Inputs\n",
    "\n",
    "##### Description:\n",
    "\n",
    "Creating a sklearn pipeline using the ColumnTransformer and the XGBoost and pass through all the variable\n",
    "\n",
    "##### Parameters for Classifier: \n",
    "\n",
    "Max Depth of the tree:\n",
    "    \n",
    "    2, 10, 1\n",
    "\n",
    "Number of estimators:\n",
    "    \n",
    "    60, 220, 40\n",
    "    \n",
    "Learning Rate: \n",
    "    \n",
    "    0.5, 0.4, 0.3, 0.2, 0.1, 0.01, 0.05\n",
    "    \n",
    "##### Inputs:\n",
    "\n",
    "For the training of the data:\n",
    "    X_resample and Y_resample:\n",
    "        \n",
    "##### Resampling of Data:\n",
    "\n",
    "Why are we resampling the data?\n",
    "    \n",
    "    Before resampling the data, I tried creating a classifer which resulted in 96% accuracy although, bad class 1 accuracy. Hence we undersampled the data so that the classifier can properly identify the features and train it easily\n",
    "        "
   ]
  },
  {
   "cell_type": "code",
   "execution_count": 45,
   "metadata": {},
   "outputs": [],
   "source": [
    "XGB_pipe = Pipeline(\n",
    "    steps = [(\"Transformer\", ct), (\"Classifier\", XGBClassifier(verbosity = 0))])"
   ]
  },
  {
   "cell_type": "code",
   "execution_count": 46,
   "metadata": {},
   "outputs": [],
   "source": [
    "sampler = RandomUnderSampler()\n",
    "X_sample, Y_sample = sampler.fit_resample(X_dummies, Y)"
   ]
  },
  {
   "cell_type": "code",
   "execution_count": 56,
   "metadata": {},
   "outputs": [],
   "source": [
    "params = {\n",
    "    'Classifier__max_depth': range (2, 10, 1),\n",
    "    'Classifier__n_estimators': range(60, 220, 40),\n",
    "    'Classifier__learning_rate': [0.5, 0.4, 0.3, 0.2, 0.1, 0.01, 0.05]\n",
    "}"
   ]
  },
  {
   "cell_type": "code",
   "execution_count": 48,
   "metadata": {},
   "outputs": [],
   "source": [
    "grid_xgb = GridSearchCV(XGB_pipe,\n",
    "                      param_grid=params,\n",
    "                      scoring = 'accuracy', \n",
    "                      cv = 5)"
   ]
  },
  {
   "cell_type": "code",
   "execution_count": 49,
   "metadata": {},
   "outputs": [],
   "source": [
    "X_tr, X_ts, Y_tr, Y_ts = train_test_split(X_sample, Y_sample, test_size = 0.4, random_state = 42, stratify=Y_sample)"
   ]
  },
  {
   "cell_type": "code",
   "execution_count": 50,
   "metadata": {},
   "outputs": [],
   "source": [
    "grid_xgb.fit(X_tr, Y_tr)\n",
    "pred = grid_xgb.predict(X_ts)"
   ]
  },
  {
   "cell_type": "markdown",
   "metadata": {},
   "source": [
    "#### XGBOOST Outputs:\n",
    "\n",
    "##### Metrics:\n",
    "\n",
    "Precision of class 0, 1, and combined using the classification report\n",
    "\n",
    "Recall of class 0, 1, and combined using the classification report\n",
    "\n",
    "F-1 Score of class 0, 1, and combined using the classification report\n",
    "\n",
    "Accuracy of the model using the classification report\n",
    "\n",
    "##### Graphs:\n",
    "\n",
    "Here we have a ROC-Curve that shows how well the model is being fitted to the data.\n"
   ]
  },
  {
   "cell_type": "code",
   "execution_count": 51,
   "metadata": {},
   "outputs": [
    {
     "name": "stdout",
     "output_type": "stream",
     "text": [
      "0.7075699617475337\n",
      "[[3511 1449]\n",
      " [1456 3518]]\n",
      "              precision    recall  f1-score   support\n",
      "\n",
      "           0       0.71      0.71      0.71      4960\n",
      "           1       0.71      0.71      0.71      4974\n",
      "\n",
      "    accuracy                           0.71      9934\n",
      "   macro avg       0.71      0.71      0.71      9934\n",
      "weighted avg       0.71      0.71      0.71      9934\n",
      "\n"
     ]
    }
   ],
   "source": [
    "print(accuracy_score(pred, Y_ts))\n",
    "print(confusion_matrix(pred, Y_ts))\n",
    "print(classification_report(pred, Y_ts))"
   ]
  },
  {
   "cell_type": "markdown",
   "metadata": {},
   "source": [
    "https://scikit-learn.org/stable/modules/generated/sklearn.metrics.plot_roc_curve.html"
   ]
  },
  {
   "cell_type": "code",
   "execution_count": 52,
   "metadata": {},
   "outputs": [
    {
     "data": {
      "text/plain": [
       "<sklearn.metrics._plot.roc_curve.RocCurveDisplay at 0x7f76efbc8f40>"
      ]
     },
     "execution_count": 52,
     "metadata": {},
     "output_type": "execute_result"
    },
    {
     "data": {
      "image/png": "[encoded data removed]",
      "text/plain": [
       "<Figure size 432x288 with 1 Axes>"
      ]
     },
     "metadata": {
      "needs_background": "light"
     },
     "output_type": "display_data"
    }
   ],
   "source": [
    "plot_roc_curve(grid_xgb, X_ts, Y_ts)"
   ]
  },
  {
   "cell_type": "markdown",
   "metadata": {},
   "source": [
    " "
   ]
  },
  {
   "cell_type": "markdown",
   "metadata": {},
   "source": [
    "## [5] Final Thoughts and Conclusions:"
   ]
  },
  {
   "cell_type": "markdown",
   "metadata": {},
   "source": [
    "#### [5.1]\n",
    "#### Justification for using the models:"
   ]
  },
  {
   "cell_type": "markdown",
   "metadata": {},
   "source": [
    "**Logistic Regression**: \n",
    "\n",
    "Using Logistic regression as an obvious choice because it is the most sought after model in the classification pipelines and problems. I wanted to see how the Logistic regression models performs well on an imbalanced dataset and it was not doing a good job on handling the data.\n",
    "\n",
    "**Decision Tree:**\n",
    "\n",
    "Decision Trees can handle imbalanced datasets pretty well and thus was my first pick. Although this did give a 97% accuracy, it was not doing a great job with the imbalance either. Hence that is where I thought I should definitely undersample class 0.\n",
    "\n",
    "**Random Forest:**\n",
    "    \n",
    "This is a pretty popular method for handling data that might be slightly imbalanced data and was giving 89% accuracy, it had a good effect on the class 1 as compared to the Decision Tree and Logistic Regression.\n",
    "\n",
    "**XGBoost:**\n",
    "    \n",
    "XGBoost outperforms every other classification model in my opinion. TreeBoosting algorithms have been great for classifying the imbalanced classes and do a great job when there is a balance in the data. \n"
   ]
  },
  {
   "cell_type": "markdown",
   "metadata": {},
   "source": [
    "**GridSearchCV:**\n",
    "    \n",
    "Using GridSearchCV for hyperparameter training as it will create the model best suited for the data."
   ]
  },
  {
   "cell_type": "markdown",
   "metadata": {},
   "source": [
    "#### [5.2] All the columns that were important:"
   ]
  },
  {
   "cell_type": "markdown",
   "metadata": {},
   "source": [
    "##### Reason:\n",
    "These columns produced very less correlations and they give an unbiased picture to all the models. "
   ]
  },
  {
   "cell_type": "code",
   "execution_count": 61,
   "metadata": {},
   "outputs": [
    {
     "data": {
      "text/plain": [
       "['creditLimit',\n",
       " 'availableMoney',\n",
       " 'transactionAmount',\n",
       " 'posEntryMode',\n",
       " 'posConditionCode',\n",
       " 'merchantCategoryCode',\n",
       " 'transactionType',\n",
       " 'currentBalance',\n",
       " 'cardPresent',\n",
       " 'expirationDateKeyInMatch',\n",
       " 'CVV Match',\n",
       " 'multiswipeMinutes',\n",
       " 'FirstVendorPurchase',\n",
       " 'sameCountry']"
      ]
     },
     "execution_count": 61,
     "metadata": {},
     "output_type": "execute_result"
    }
   ],
   "source": [
    "X.columns.to_list()"
   ]
  },
  {
   "cell_type": "markdown",
   "metadata": {},
   "source": [
    "##### New Features:\n",
    "    cvvMatch, FirstVendorPurchase, MultiswipeMinutes and sameCountry are the new features I created. \n",
    "    \n",
    "Refer to 4.2, 5, 6.2, 6.3 of Question 3.ipynb for reference"
   ]
  },
  {
   "cell_type": "markdown",
   "metadata": {},
   "source": [
    "#### [5.3] What would have I done with more time:\n",
    "\n",
    "- I could have created another feature for the expiration Date which I couldn't get an idea of. \n",
    "\n",
    "- I would have used RandomisedSearch CV and compared with the Grid Search CV models.\n",
    "\n",
    "- I could have Deep Learning models on the un-sampled trained data itself and see if I could have got a better accuracy.\n",
    "\n",
    "- Compared all the ROC curves together as I was not able to figure out."
   ]
  },
  {
   "cell_type": "markdown",
   "metadata": {},
   "source": [
    "#### [5.4] What questions do I have:\n",
    "\n",
    "- What kind of features do you usually look at, while doing Fraud Detection and how close are the results with the real life.\n",
    "\n",
    "- What do you expect the final result of the machine learning/deep learning model be used at and how is the company going to use all the models?\n",
    "\n",
    "- As much as this data is imbalanced, the real-life training data is going to be extremely imbalanced and how are you able to detect a Fraud going on in real-time?\n",
    "\n",
    "- What is the best way to tackle this kind of imbalance data, especially at the firm?\n"
   ]
  }
 ],
 "metadata": {
  "kernelspec": {
   "display_name": "Python 3",
   "language": "python",
   "name": "python3"
  },
  "language_info": {
   "codemirror_mode": {
    "name": "ipython",
    "version": 3
   },
   "file_extension": ".py",
   "mimetype": "text/x-python",
   "name": "python",
   "nbconvert_exporter": "python",
   "pygments_lexer": "ipython3",
   "version": "3.8.8"
  }
 },
 "nbformat": 4,
 "nbformat_minor": 4
}
